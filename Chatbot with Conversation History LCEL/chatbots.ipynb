{
 "cells": [
  {
   "cell_type": "markdown",
   "metadata": {},
   "source": [
    "# Chatbot with Conversational History using LCEL"
   ]
  },
  {
   "cell_type": "code",
   "execution_count": 3,
   "metadata": {},
   "outputs": [],
   "source": [
    "import os \n",
    "from dotenv import load_dotenv\n",
    "load_dotenv()\n",
    "\n",
    "groq_api_key = os.getenv(\"GROQ_API_KEY\")"
   ]
  },
  {
   "cell_type": "code",
   "execution_count": 4,
   "metadata": {},
   "outputs": [
    {
     "data": {
      "text/plain": [
       "ChatGroq(client=<groq.resources.chat.completions.Completions object at 0x000001DE269C2540>, async_client=<groq.resources.chat.completions.AsyncCompletions object at 0x000001DE26B04E90>, model_name='gemma2-9b-It', model_kwargs={}, groq_api_key=SecretStr('**********'))"
      ]
     },
     "execution_count": 4,
     "metadata": {},
     "output_type": "execute_result"
    }
   ],
   "source": [
    "from langchain_groq import ChatGroq\n",
    "model = ChatGroq(model = \"gemma2-9b-It\", groq_api_key = groq_api_key)\n",
    "model"
   ]
  },
  {
   "cell_type": "code",
   "execution_count": 5,
   "metadata": {},
   "outputs": [
    {
     "data": {
      "text/plain": [
       "AIMessage(content=\"Hello Yash! 👋\\n\\nIt's great to meet you. Being a Data Scientist is awesome! What kind of projects are you working on these days?  \\n\\nDo you have any questions for me about data science, or anything else? I'm here to help! 😊 \\n\\n\", additional_kwargs={}, response_metadata={'token_usage': {'completion_tokens': 61, 'prompt_tokens': 22, 'total_tokens': 83, 'completion_time': 0.110909091, 'prompt_time': 0.00015399, 'queue_time': 0.013471419, 'total_time': 0.111063081}, 'model_name': 'gemma2-9b-It', 'system_fingerprint': 'fp_10c08bf97d', 'finish_reason': 'stop', 'logprobs': None}, id='run-e85f87c6-a613-4024-8ab9-368c4613e08b-0', usage_metadata={'input_tokens': 22, 'output_tokens': 61, 'total_tokens': 83})"
      ]
     },
     "execution_count": 5,
     "metadata": {},
     "output_type": "execute_result"
    }
   ],
   "source": [
    "from langchain_core.messages import HumanMessage\n",
    "model.invoke([HumanMessage(content = \"Hii, I am Yash. I am a Data Sceintist\")])"
   ]
  },
  {
   "cell_type": "code",
   "execution_count": 6,
   "metadata": {},
   "outputs": [
    {
     "data": {
      "text/plain": [
       "AIMessage(content=\"You told me your name is Yash, and that you are a Data Scientist!  \\n\\nIs there anything else you'd like to tell me about yourself or your work?  I'm curious to learn more. 😊  \\n\", additional_kwargs={}, response_metadata={'token_usage': {'completion_tokens': 49, 'prompt_tokens': 100, 'total_tokens': 149, 'completion_time': 0.089090909, 'prompt_time': 0.002506402, 'queue_time': 0.012826656, 'total_time': 0.091597311}, 'model_name': 'gemma2-9b-It', 'system_fingerprint': 'fp_10c08bf97d', 'finish_reason': 'stop', 'logprobs': None}, id='run-23b259d7-243a-49f6-8ad2-5bc31a3977d9-0', usage_metadata={'input_tokens': 100, 'output_tokens': 49, 'total_tokens': 149})"
      ]
     },
     "execution_count": 6,
     "metadata": {},
     "output_type": "execute_result"
    }
   ],
   "source": [
    "from langchain_core.messages import AIMessage\n",
    "model.invoke(\n",
    "    [\n",
    "        HumanMessage(content = \"Hii, I am Yash. I am a Data Sceintist\"),\n",
    "        AIMessage(content = \"Hello Yash! 👋\\n\\nIt's great to meet you. Being a Data Scientist is awesome! What kind of projects are you working on these days?  \\n\\nDo you have any questions for me about data science, or anything else? I'm here to help! 😊 \\n\\n\"),\n",
    "        HumanMessage(content = \"What is my name and what do I do?\"),\n",
    "    ]\n",
    ")"
   ]
  },
  {
   "cell_type": "markdown",
   "metadata": {},
   "source": [
    "It seems that our model is remembering out history."
   ]
  },
  {
   "cell_type": "markdown",
   "metadata": {},
   "source": [
    "### **Associating Conversation History with SessionId**"
   ]
  },
  {
   "cell_type": "code",
   "execution_count": 7,
   "metadata": {},
   "outputs": [],
   "source": [
    "from langchain_community.chat_message_histories import ChatMessageHistory\n",
    "from langchain_core.chat_history import BaseChatMessageHistory\n",
    "from langchain_core.runnables.history import RunnableWithMessageHistory\n",
    "\n",
    "store = {}\n",
    "\n",
    "def get_session_history(session_id:str) -> BaseChatMessageHistory:\n",
    "    if session_id not in store:\n",
    "        store[session_id] = ChatMessageHistory()\n",
    "    return store[session_id]\n",
    "\n",
    "with_message_history = RunnableWithMessageHistory(model, get_session_history)\n",
    "\n",
    "config = {\n",
    "    \"configurable\":{\n",
    "        \"session_id\": \"chat1\"\n",
    "    }\n",
    "}"
   ]
  },
  {
   "cell_type": "code",
   "execution_count": 9,
   "metadata": {},
   "outputs": [
    {
     "data": {
      "text/plain": [
       "\"It's nice to meet you, Yash!  \\n\\nWhat kind of data science work do you do?  Are you working on any interesting projects right now? 😊 \\n\\nI'm always eager to learn more about how people are using data science to make a difference.  \\n\\n\""
      ]
     },
     "execution_count": 9,
     "metadata": {},
     "output_type": "execute_result"
    }
   ],
   "source": [
    "response = with_message_history.invoke(\n",
    "    [HumanMessage(content= \"Hi my name is Yash, I am a Data Scientist\")],\n",
    "    config = config\n",
    ")\n",
    "response.content"
   ]
  },
  {
   "cell_type": "code",
   "execution_count": 10,
   "metadata": {},
   "outputs": [
    {
     "data": {
      "text/plain": [
       "AIMessage(content='Your name is Yash. 😊  \\n\\nI remember that you told me at the beginning of our conversation.  \\n\\n\\n\\n\\n', additional_kwargs={}, response_metadata={'token_usage': {'completion_tokens': 26, 'prompt_tokens': 173, 'total_tokens': 199, 'completion_time': 0.047272727, 'prompt_time': 0.005363543, 'queue_time': 0.008265204, 'total_time': 0.05263627}, 'model_name': 'gemma2-9b-It', 'system_fingerprint': 'fp_10c08bf97d', 'finish_reason': 'stop', 'logprobs': None}, id='run-f330d6ef-e88d-4ba5-b3d6-9b3b5fc63b12-0', usage_metadata={'input_tokens': 173, 'output_tokens': 26, 'total_tokens': 199})"
      ]
     },
     "execution_count": 10,
     "metadata": {},
     "output_type": "execute_result"
    }
   ],
   "source": [
    "with_message_history.invoke(\n",
    "    [\n",
    "        HumanMessage(content= \"What is my name\")\n",
    "    ],\n",
    "    config = config\n",
    ")"
   ]
  },
  {
   "cell_type": "code",
   "execution_count": 12,
   "metadata": {},
   "outputs": [
    {
     "data": {
      "text/plain": [
       "AIMessage(content=\"As an AI, I have no memory of past conversations and don't know your name. If you'd like to tell me, I'd be happy to use it! 😊  \\n\\n\", additional_kwargs={}, response_metadata={'token_usage': {'completion_tokens': 43, 'prompt_tokens': 15, 'total_tokens': 58, 'completion_time': 0.078181818, 'prompt_time': 8.394e-05, 'queue_time': 0.01315726, 'total_time': 0.078265758}, 'model_name': 'gemma2-9b-It', 'system_fingerprint': 'fp_10c08bf97d', 'finish_reason': 'stop', 'logprobs': None}, id='run-fbf131c1-d6c1-40b6-ab9c-51d9ae70a622-0', usage_metadata={'input_tokens': 15, 'output_tokens': 43, 'total_tokens': 58})"
      ]
     },
     "execution_count": 12,
     "metadata": {},
     "output_type": "execute_result"
    }
   ],
   "source": [
    "config2 = {\n",
    "    \"configurable\":{\n",
    "        \"session_id\": \"chat2\"\n",
    "    }\n",
    "}\n",
    "\n",
    "with_message_history.invoke(\n",
    "    [\n",
    "        HumanMessage(content= \"Hii What is my name?\")\n",
    "    ],\n",
    "    config = config2\n",
    ")"
   ]
  },
  {
   "cell_type": "markdown",
   "metadata": {},
   "source": [
    "As you can see, if we change config, it will not have info about other sessions"
   ]
  },
  {
   "cell_type": "markdown",
   "metadata": {},
   "source": [
    "### **Prompt Templates**"
   ]
  },
  {
   "cell_type": "code",
   "execution_count": 13,
   "metadata": {},
   "outputs": [],
   "source": [
    "from langchain_core.prompts import ChatPromptTemplate, MessagesPlaceholder\n",
    "prompt = ChatPromptTemplate.from_messages([\n",
    "    (\"system\", \"You are a helpful assistant. Answer all the questions to the best of your ability\"),\n",
    "    MessagesPlaceholder(variable_name= \"messages\")\n",
    "])\n",
    "\n",
    "chain = prompt | model"
   ]
  },
  {
   "cell_type": "code",
   "execution_count": 14,
   "metadata": {},
   "outputs": [
    {
     "data": {
      "text/plain": [
       "AIMessage(content=\"Hi Yash, it's nice to meet you!\\n\\nI understand you're a Data Scientist. That's awesome!  \\n\\nWhat can I help you with today?  Do you have any questions about data science, need help with a specific problem, or just want to chat about the field?  \\n\\nI'm here to assist in any way I can. 😊  \\n\\n\", additional_kwargs={}, response_metadata={'token_usage': {'completion_tokens': 82, 'prompt_tokens': 38, 'total_tokens': 120, 'completion_time': 0.149090909, 'prompt_time': 0.000588848, 'queue_time': 0.013633351, 'total_time': 0.149679757}, 'model_name': 'gemma2-9b-It', 'system_fingerprint': 'fp_10c08bf97d', 'finish_reason': 'stop', 'logprobs': None}, id='run-2467451b-9cd2-4679-9e7f-ad941f8a2a51-0', usage_metadata={'input_tokens': 38, 'output_tokens': 82, 'total_tokens': 120})"
      ]
     },
     "execution_count": 14,
     "metadata": {},
     "output_type": "execute_result"
    }
   ],
   "source": [
    "chain.invoke({\n",
    "    \"messages\":[HumanMessage(content = \"Hii, I am Yash. I am a Data Sceintist\")]\n",
    "})"
   ]
  },
  {
   "cell_type": "code",
   "execution_count": 15,
   "metadata": {},
   "outputs": [
    {
     "data": {
      "text/plain": [
       "AIMessage(content=\"Hi Yash! It's nice to meet you.  \\n\\nBeing a Data Scientist is awesome!  What kind of projects are you working on these days? Do you have a favorite area of data science? \\n\\nI'm always eager to learn more about how people are using data to solve problems and make the world a better place. 😊  \\n\\n\", additional_kwargs={}, response_metadata={'token_usage': {'completion_tokens': 75, 'prompt_tokens': 233, 'total_tokens': 308, 'completion_time': 0.136363636, 'prompt_time': 0.008397194, 'queue_time': 0.005367754000000001, 'total_time': 0.14476083}, 'model_name': 'gemma2-9b-It', 'system_fingerprint': 'fp_10c08bf97d', 'finish_reason': 'stop', 'logprobs': None}, id='run-4ece1f8e-1641-4ec4-a9e6-2b7fdbc6d403-0', usage_metadata={'input_tokens': 233, 'output_tokens': 75, 'total_tokens': 308})"
      ]
     },
     "execution_count": 15,
     "metadata": {},
     "output_type": "execute_result"
    }
   ],
   "source": [
    "with_message_history = RunnableWithMessageHistory(chain, get_session_history)\n",
    "response = with_message_history.invoke(\n",
    "    [HumanMessage(content= \"Hi my name is Yash, I am a Data Scientist\")],\n",
    "    config = config\n",
    ")\n",
    "\n",
    "response"
   ]
  },
  {
   "cell_type": "code",
   "execution_count": 17,
   "metadata": {},
   "outputs": [
    {
     "data": {
      "text/plain": [
       "'Your name is Yash.  \\n\\nI remember! 😊  \\n\\nIs there anything else I can help you with?'"
      ]
     },
     "execution_count": 17,
     "metadata": {},
     "output_type": "execute_result"
    }
   ],
   "source": [
    "response = with_message_history.invoke(\n",
    "    [HumanMessage(content= \"What is my name\")],\n",
    "    config = config\n",
    ")\n",
    "\n",
    "response.content"
   ]
  },
  {
   "cell_type": "code",
   "execution_count": 23,
   "metadata": {},
   "outputs": [],
   "source": [
    "# adding more complexity \n",
    "prompt = ChatPromptTemplate.from_messages([\n",
    "    (\n",
    "        \"system\",\n",
    "        \"You are a helpful assistant. Answer all the questions to the best of your ability in {language}\",\n",
    "\n",
    "    ),\n",
    "    MessagesPlaceholder(variable_name = \"messages\")\n",
    "])\n",
    "\n",
    "chain = prompt | model "
   ]
  },
  {
   "cell_type": "code",
   "execution_count": 24,
   "metadata": {},
   "outputs": [
    {
     "data": {
      "text/plain": [
       "'## जेनरेटिव्ह आय.ए.आय. (Generative AI)\\n\\nजेनरेटिव्ह आय.ए.आय. हे एक प्रकारचे आर्टिफिशियल इंटेलिजेन्समध्ये लक्ष केंद्रित होते ज्यामध्ये माहिती पैकी नवीन माहिती तयार करण्याची क्षमता असते.\\n\\n**जेनरेटिव्ह आय.ए.आय. काय करते?**\\n\\nजेनरेटिव्ह आय.ए.आय. डेटा सेट्सचे विश्लेषण करून आणि त्यांमधून शिकून नवीन डेटा तयार करतो. हे डेटा विविध स्वरूपात असू शकते, जसे की:\\n\\n* **टेक्स्ट:** कविता, कादंबऱ्या, लेख, कथा इ.\\n* **इमेज:** चित्र, फोटो, कलाकृती इ.\\n* **ऑडिओ:** संगीत, भाषण, आवाज इ.\\n* **व्हिडिओ:** अॅनिमेशन, सिनेमा, व्हिडिओ गेम इ.\\n\\n**जेनरेटिव्ह आय.ए.आय. कशा प्रकारच्या कार्ये करू शकते?**\\n\\n* **नवीन कथा लिहिणे:** तुम्हाला कल्पना हवी असेल तर, जेनरेटिव्ह आय.ए.आय. तुम्हाला एका कथेची सुरुवात करण्यास मदत करू शकते, किंवा पूर्ण कथा लिहिण्यास मदत करू शकते.\\n* **चित्र बनवणे:** तुमच्या मनात एक चित्र आहे पण तुम्ही तो स्वतः बनवू शकत नाही, तर जेनरेटिव्ह आय.ए.आय. तुम्हाला त्या चित्राचे डिजिटल रूप प्रदान करू शकते.\\n* **संगीत तयार करणे:** जर तुम्हाला संगीताची आवड असेल तर, जेनरेटिव्ह आय.ए.आय. तुम्हाला नवीन संगीत रचना करण्यास मदत करू शकते.\\n\\n\\n**जेनरेटिव्ह आय.ए.आय. याचे फायदे आणि तोटे:**\\n\\n* **फायदे:**\\n    * नवीन आणि रचनात्मक माहिती तयार करू शकते.\\n    * वेळ आणि श्रमाचा बचत करू शकते.\\n    * विविध क्षेत्रांमध्ये अनेक नवीन आवेदने शक्य करू शकते.\\n* **तोटे:**\\n    * माहितीचे स्रोत आणि नैतिकता यावर प्रश्नचिन्ह निर्माण करू शकते.\\n    * जेनरेटिव्ह आय.ए.आय. उत्पादनाचा वापर अनधिकृत किंवा गैरवर्तनासाठी केला जाऊ शकतो.\\n    * जेनरेटिव्ह आय.ए.आय. उत्पादनांचे निष्पक्षपणा आणि समता यावर प्रश्नचिन्ह निर्माण होऊ शकते.\\n\\n\\n\\nजेनरेटिव्ह आय.ए.आय. हे भविष्यातील तंत्रज्ञानाचे एक महत्त्वाचे भाग बनत आहे. ते आपल्या जीवनात अनेक संधी आणि आव्हाने निर्माण करू शकते.\\n\\n'"
      ]
     },
     "execution_count": 24,
     "metadata": {},
     "output_type": "execute_result"
    }
   ],
   "source": [
    "response = chain.invoke({\n",
    "    \"messages\": [HumanMessage(content = \"Tell me about Generative Ai \")],\n",
    "    \"language\": \"Marathi\"\n",
    "})\n",
    "\n",
    "response.content"
   ]
  },
  {
   "cell_type": "markdown",
   "metadata": {},
   "source": [
    "Let's now wrap this more complicated chain in a Message History class. This time, because there are multiple keys in the input, we need to specify the correct key to use to save the chat history."
   ]
  },
  {
   "cell_type": "code",
   "execution_count": 25,
   "metadata": {},
   "outputs": [],
   "source": [
    "with_messgage_history = RunnableWithMessageHistory(\n",
    "    chain,\n",
    "    get_session_history,\n",
    "    input_messages_key = \"messages\"\n",
    ")"
   ]
  },
  {
   "cell_type": "code",
   "execution_count": 26,
   "metadata": {},
   "outputs": [],
   "source": [
    "config = {\n",
    "    \"configurable\": {\n",
    "        \"session_id\": \"Chat3\"\n",
    "    }\n",
    "}"
   ]
  },
  {
   "cell_type": "code",
   "execution_count": 29,
   "metadata": {},
   "outputs": [
    {
     "data": {
      "text/plain": [
       "'## ¡Con gusto te hablo sobre la IA Generativa!\\n\\nLa Inteligencia Artificial Generativa (IA Generativa) es un tipo emocionante de aprendizaje automático que se enfoca en crear nuevos contenidos. Imagina una máquina que puede escribir historias, componer música, generar imágenes o incluso diseñar código, ¡eso es lo que hace la IA Generativa!\\n\\n**¿Cómo funciona?**\\n\\nLa IA Generativa aprende a partir de grandes conjuntos de datos existentes. Analiza patrones y estructuras en ese data para luego poder generar nuevos ejemplos que se ajusten a esos mismos patrones. \\n\\n**Algunos ejemplos de aplicaciones:**\\n\\n* **Creación de texto:**\\n\\nChatbots, redacción de artículos, traducción automática, generación de poesía y guiones.\\n* **Generación de imágenes:**\\n\\nCreación de imágenes realistas o abstractas a partir de descripciones textuales, diseño de logos y personajes.\\n* **Composición musical:**\\n\\nGeneración de melodías, armonías y ritmos nuevos.\\n* **Diseño:**\\n\\nGeneración de diseños para productos, interfaces de usuario y arquitectura.\\n\\n**Algunas de las tecnologías más conocidas en IA Generativa son:**\\n\\n* **Redes Neuronales Generativas Adversariales (GANs):** \\nDos redes neuronales compiten entre sí: una genera contenido nuevo y la otra lo evalúa. \\n* **Modelos de Transformación (Transformers):** \\nPermiten procesar y generar texto de manera muy eficiente, como en el caso de ChatGPT.\\n\\n**El futuro de la IA Generativa:**\\n\\nLa IA Generativa está en constante evolución y promete revolucionar muchos campos. \\n\\n**¿Te interesa saber más sobre algún aspecto específico de la IA Generativa?**\\n\\n\\n\\n'"
      ]
     },
     "execution_count": 29,
     "metadata": {},
     "output_type": "execute_result"
    }
   ],
   "source": [
    "response = with_messgage_history.invoke({\n",
    "    'messages': [HumanMessage(content = \"Tell me about Generative Ai \")],\n",
    "    'language' : \"Spanish\",\n",
    "},\n",
    "config = config\n",
    ")\n",
    "\n",
    "response.content"
   ]
  },
  {
   "cell_type": "code",
   "execution_count": 30,
   "metadata": {},
   "outputs": [
    {
     "data": {
      "text/plain": [
       "\"You asked me to tell you about Generative AI.  \\n\\nI explained what it is, how it works, some examples of its applications, and some of the key technologies behind it. \\n\\nIs there anything else you'd like to know about Generative AI?  \\n\\n\""
      ]
     },
     "execution_count": 30,
     "metadata": {},
     "output_type": "execute_result"
    }
   ],
   "source": [
    "response = with_messgage_history.invoke({\n",
    "    'messages': [HumanMessage(content = \"What did I ask about? \")],\n",
    "    'language' : \"English\",\n",
    "},\n",
    "config = config\n",
    ")\n",
    "\n",
    "response.content"
   ]
  },
  {
   "cell_type": "markdown",
   "metadata": {},
   "source": [
    "### Managing the Conversation History"
   ]
  },
  {
   "cell_type": "markdown",
   "metadata": {},
   "source": [
    "One important concept to understand when building chatbots is how to manage conversation history. If left unmanaged, the list of messages will grow unbounded and potentially overflow the context window of the LLM. Therefore, it is important to add a step that limits the size of the messages you are passing in.\n",
    "'trim_messages' helper to reduce how many messages we're sending to the model. The trimmer allows us to specify how many tokens we want to keep, along with other parameters like if we want to always keep the system message and whether to allow partial messages"
   ]
  },
  {
   "cell_type": "code",
   "execution_count": 31,
   "metadata": {},
   "outputs": [
    {
     "name": "stderr",
     "output_type": "stream",
     "text": [
      "d:\\GEN AI\\Langchain\\myenv\\Lib\\site-packages\\tqdm\\auto.py:21: TqdmWarning: IProgress not found. Please update jupyter and ipywidgets. See https://ipywidgets.readthedocs.io/en/stable/user_install.html\n",
      "  from .autonotebook import tqdm as notebook_tqdm\n",
      "d:\\GEN AI\\Langchain\\myenv\\Lib\\site-packages\\transformers\\tokenization_utils_base.py:1617: FutureWarning: `clean_up_tokenization_spaces` was not set. It will be set to `True` by default. This behavior will be deprecated in transformers v4.45, and will be then set to `False` by default. For more details check this issue: https://github.com/huggingface/transformers/issues/31884\n",
      "  warnings.warn(\n"
     ]
    },
    {
     "data": {
      "text/plain": [
       "[SystemMessage(content=\"you're a good assistant\", additional_kwargs={}, response_metadata={}),\n",
       " HumanMessage(content=\"hi! I'm bob\", additional_kwargs={}, response_metadata={}),\n",
       " AIMessage(content='hi!', additional_kwargs={}, response_metadata={}),\n",
       " HumanMessage(content='I like vanilla ice cream', additional_kwargs={}, response_metadata={}),\n",
       " AIMessage(content='nice', additional_kwargs={}, response_metadata={}),\n",
       " HumanMessage(content='whats 2 + 2', additional_kwargs={}, response_metadata={}),\n",
       " AIMessage(content='4', additional_kwargs={}, response_metadata={}),\n",
       " HumanMessage(content='thanks', additional_kwargs={}, response_metadata={}),\n",
       " AIMessage(content='no problem!', additional_kwargs={}, response_metadata={}),\n",
       " HumanMessage(content='having fun?', additional_kwargs={}, response_metadata={}),\n",
       " AIMessage(content='yes!', additional_kwargs={}, response_metadata={})]"
      ]
     },
     "execution_count": 31,
     "metadata": {},
     "output_type": "execute_result"
    }
   ],
   "source": [
    "from langchain_core.messages import SystemMessage, trim_messages\n",
    "trimmer = trim_messages(\n",
    "    max_tokens = 54,\n",
    "    strategy=\"last\",\n",
    "    token_counter=model,\n",
    "    include_system=True,\n",
    "    allow_partial=False,\n",
    "    start_on=\"human\"\n",
    ")\n",
    "\n",
    "messages = [\n",
    "    SystemMessage(content=\"you're a good assistant\"),\n",
    "    HumanMessage(content=\"hi! I'm bob\"),\n",
    "    AIMessage(content=\"hi!\"),\n",
    "    HumanMessage(content=\"I like vanilla ice cream\"),\n",
    "    AIMessage(content=\"nice\"),\n",
    "    HumanMessage(content=\"whats 2 + 2\"),\n",
    "    AIMessage(content=\"4\"),\n",
    "    HumanMessage(content=\"thanks\"),\n",
    "    AIMessage(content=\"no problem!\"),\n",
    "    HumanMessage(content=\"having fun?\"),\n",
    "    AIMessage(content=\"yes!\"),\n",
    "]\n",
    "trimmer.invoke(messages)"
   ]
  },
  {
   "cell_type": "code",
   "execution_count": 33,
   "metadata": {},
   "outputs": [],
   "source": [
    "from operator import itemgetter\n",
    "\n",
    "from langchain_core.runnables import RunnablePassthrough\n",
    "\n",
    "chain=(\n",
    "    RunnablePassthrough.assign(messages=itemgetter(\"messages\")|trimmer)\n",
    "    | prompt\n",
    "    | model\n",
    "    \n",
    ")\n",
    "\n",
    "response = chain.invoke(\n",
    "    {\n",
    "        \"messages\": messages + [HumanMessage(content= \"Hi my name is Yash, I am a Data Scientist\")],\n",
    "        \"language\":\"Hindi\"\n",
    "    }\n",
    ")"
   ]
  },
  {
   "cell_type": "code",
   "execution_count": 34,
   "metadata": {},
   "outputs": [
    {
     "data": {
      "text/plain": [
       "'Namaste Yash!  मुझे खुशी है आपसे मिलने को।  आप एक Data Scientist हैं, यह बहुत ही रोचक है! \\n\\nक्या मैं आपकी कोई मदद कर सकता हूँ?  \\n'"
      ]
     },
     "execution_count": 34,
     "metadata": {},
     "output_type": "execute_result"
    }
   ],
   "source": [
    "response.content"
   ]
  },
  {
   "cell_type": "code",
   "execution_count": 35,
   "metadata": {},
   "outputs": [
    {
     "data": {
      "text/plain": [
       "'You said you like **vanilla** ice cream! 🍦  \\n\\nIs there something else I can help you with?\\n'"
      ]
     },
     "execution_count": 35,
     "metadata": {},
     "output_type": "execute_result"
    }
   ],
   "source": [
    "response=chain.invoke(\n",
    "    {\n",
    "    \"messages\":messages + [HumanMessage(content=\"What ice cream do i like\")],\n",
    "    \"language\":\"English\"\n",
    "    }\n",
    ")\n",
    "response.content"
   ]
  },
  {
   "cell_type": "code",
   "execution_count": 36,
   "metadata": {},
   "outputs": [
    {
     "data": {
      "text/plain": [
       "'You asked: \"what\\'s 2 + 2\" \\n\\nIs there anything else I can help you with?\\n'"
      ]
     },
     "execution_count": 36,
     "metadata": {},
     "output_type": "execute_result"
    }
   ],
   "source": [
    "response = chain.invoke(\n",
    "    {\n",
    "        \"messages\": messages + [HumanMessage(content=\"what math problem did i ask\")],\n",
    "        \"language\": \"English\",\n",
    "    }\n",
    ")\n",
    "response.content"
   ]
  },
  {
   "cell_type": "code",
   "execution_count": 38,
   "metadata": {},
   "outputs": [
    {
     "data": {
      "text/plain": [
       "\"I don't have access to any information about you, including your name.  If you'd like to tell me your name, I'd be happy to know! 😊  \\n\""
      ]
     },
     "execution_count": 38,
     "metadata": {},
     "output_type": "execute_result"
    }
   ],
   "source": [
    "response = chain.invoke(\n",
    "    {\n",
    "        \"messages\": messages + [HumanMessage(content=\"whats my name?\")],\n",
    "        \"language\": \"English\",\n",
    "    },\n",
    "    config=config,\n",
    ")\n",
    "\n",
    "response.content"
   ]
  },
  {
   "cell_type": "markdown",
   "metadata": {},
   "source": [
    "It forgot as we are using Trimmer "
   ]
  }
 ],
 "metadata": {
  "kernelspec": {
   "display_name": "Python 3",
   "language": "python",
   "name": "python3"
  },
  "language_info": {
   "codemirror_mode": {
    "name": "ipython",
    "version": 3
   },
   "file_extension": ".py",
   "mimetype": "text/x-python",
   "name": "python",
   "nbconvert_exporter": "python",
   "pygments_lexer": "ipython3",
   "version": "3.12.5"
  }
 },
 "nbformat": 4,
 "nbformat_minor": 2
}
